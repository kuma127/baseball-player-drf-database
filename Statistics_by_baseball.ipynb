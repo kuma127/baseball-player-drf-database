{
 "cells": [
  {
   "cell_type": "markdown",
   "metadata": {},
   "source": [
    "# プロ野球でわかる！はじめての統計学"
   ]
  },
  {
   "cell_type": "code",
   "execution_count": 1,
   "metadata": {},
   "outputs": [],
   "source": [
    "import numpy as np\n",
    "import pandas as pd\n",
    "import requests\n",
    "import json\n",
    "import numpy as np"
   ]
  },
  {
   "cell_type": "markdown",
   "metadata": {},
   "source": [
    "## 偏差\n",
    "```\n",
    "偏差 = 元のデータ - 平均値\n",
    "```\n",
    "\n",
    "## 分散\n",
    "```\n",
    "分散 = (Σ偏差^2) ÷ データ数\n",
    "```\n",
    "\n",
    "## 標準偏差\n",
    "```\n",
    "標準偏差 = sqrt(分散)\n",
    "```"
   ]
  },
  {
   "cell_type": "code",
   "execution_count": 16,
   "metadata": {},
   "outputs": [
    {
     "name": "stdout",
     "output_type": "stream",
     "text": [
      "0.0014787297005113222\n"
     ]
    }
   ],
   "source": [
    "org_data = pd.read_csv('./statistics_data/2章サンプルデータ.csv')\n",
    "\n",
    "avg_data = org_data[['選手名','打率']]\n",
    "\n",
    "avg_data = avg_data.astype({'打率': 'float64'})\n",
    "\n",
    "avg_data['偏差'] = avg_data['打率'] - avg_data.mean()['打率']\n",
    "\n",
    "avg_data['偏差^2'] = avg_data['偏差'] * avg_data['偏差']\n",
    "\n",
    "dispersion = avg_data.sum()['偏差^2'] / 185\n",
    "print(dispersion)"
   ]
  },
  {
   "cell_type": "code",
   "execution_count": 17,
   "metadata": {},
   "outputs": [
    {
     "data": {
      "text/plain": [
       "打率      2.509946e-01\n",
       "偏差      4.005805e-17\n",
       "偏差^2    1.478730e-03\n",
       "dtype: float64"
      ]
     },
     "execution_count": 17,
     "metadata": {},
     "output_type": "execute_result"
    }
   ],
   "source": [
    "avg_data.mean()"
   ]
  },
  {
   "cell_type": "code",
   "execution_count": 3,
   "metadata": {},
   "outputs": [],
   "source": [
    "standard_deviation = np.sqrt(dispersion)"
   ]
  },
  {
   "cell_type": "code",
   "execution_count": 4,
   "metadata": {},
   "outputs": [
    {
     "data": {
      "text/plain": [
       "0.03845425464771515"
      ]
     },
     "execution_count": 4,
     "metadata": {},
     "output_type": "execute_result"
    }
   ],
   "source": [
    "standard_deviation"
   ]
  },
  {
   "cell_type": "code",
   "execution_count": 6,
   "metadata": {},
   "outputs": [
    {
     "data": {
      "text/plain": [
       "0.25099459459459456"
      ]
     },
     "execution_count": 6,
     "metadata": {},
     "output_type": "execute_result"
    }
   ],
   "source": [
    "avg_data.mean()['打率']"
   ]
  },
  {
   "cell_type": "code",
   "execution_count": 7,
   "metadata": {},
   "outputs": [],
   "source": [
    "min_range = avg_data.mean()['打率'] - standard_deviation"
   ]
  },
  {
   "cell_type": "code",
   "execution_count": 8,
   "metadata": {},
   "outputs": [],
   "source": [
    "max_range = avg_data.mean()['打率'] + standard_deviation"
   ]
  },
  {
   "cell_type": "code",
   "execution_count": 9,
   "metadata": {},
   "outputs": [
    {
     "data": {
      "text/plain": [
       "0.2125403399468794"
      ]
     },
     "execution_count": 9,
     "metadata": {},
     "output_type": "execute_result"
    }
   ],
   "source": [
    "min_range"
   ]
  },
  {
   "cell_type": "code",
   "execution_count": 10,
   "metadata": {},
   "outputs": [
    {
     "data": {
      "text/plain": [
       "0.28944884924230974"
      ]
     },
     "execution_count": 10,
     "metadata": {},
     "output_type": "execute_result"
    }
   ],
   "source": [
    "max_range"
   ]
  },
  {
   "cell_type": "code",
   "execution_count": 11,
   "metadata": {},
   "outputs": [],
   "source": [
    "avg_data_2 = org_data[['選手名','打率']]"
   ]
  },
  {
   "cell_type": "code",
   "execution_count": 12,
   "metadata": {},
   "outputs": [],
   "source": [
    "avg_data_2 = avg_data_2.astype({'打率': 'float64'})"
   ]
  },
  {
   "cell_type": "code",
   "execution_count": 13,
   "metadata": {},
   "outputs": [],
   "source": [
    "avg_data_2.sort_values('打率', ascending=False, inplace=True)"
   ]
  },
  {
   "cell_type": "code",
   "execution_count": 15,
   "metadata": {},
   "outputs": [],
   "source": [
    "avg_data_2.reset_index(drop=True, inplace=True)"
   ]
  },
  {
   "cell_type": "markdown",
   "metadata": {},
   "source": [
    "## 標準化得点\n",
    "標準化得点 = (元のデータ - 平均値) ÷ 標準偏差\n",
    "\n",
    "### 例\n",
    "2015山田哲人の標準化得点\n",
    "\n",
    "- (0.329 - 0.251) ÷ 0.038 = 2.03"
   ]
  },
  {
   "cell_type": "markdown",
   "metadata": {},
   "source": [
    "## 偏差値\n",
    "```\n",
    "標準化得点 = (元のデータ - 平均値) ÷ 標準偏差 × 10 + 50\n",
    "```\n",
    "\n",
    "### 例\n",
    "2015山田哲人の打率偏差値\n",
    "\n",
    "- (0.329 - 0.251) ÷ 0.038 × 10 + 50 = 70.3"
   ]
  },
  {
   "cell_type": "code",
   "execution_count": 20,
   "metadata": {},
   "outputs": [
    {
     "name": "stdout",
     "output_type": "stream",
     "text": [
      "70.28524700843222\n"
     ]
    }
   ],
   "source": [
    "testes = (0.329 - avg_data.mean()['打率']) / standard_deviation * 10 + 50\n",
    "print(testes)"
   ]
  },
  {
   "cell_type": "markdown",
   "metadata": {},
   "source": [
    "## 非線型変換\n",
    "GB/FBみたいな、比率のような間隔が等しくないものを比較する際に元の値を変換する手法\n",
    "```\n",
    "log10(元のデータ)\n",
    "```"
   ]
  },
  {
   "cell_type": "markdown",
   "metadata": {},
   "source": [
    "### 箱ひげ図\n",
    "最小値と最大値、四分位偏差と中央値を一気に確認できるグラフ（メモ）"
   ]
  },
  {
   "cell_type": "markdown",
   "metadata": {},
   "source": [
    "### グラフの最大値と最小値\n",
    "大体集めたデータの平均値±2標準偏差の値をそれぞれ最大値、最小値とするといい（らしい）"
   ]
  },
  {
   "cell_type": "markdown",
   "metadata": {},
   "source": [
    "# 母集団と標本"
   ]
  },
  {
   "cell_type": "markdown",
   "metadata": {},
   "source": [
    "## 母集団と標本\n",
    "```\n",
    "母集団とは全てのデータの集まりを指し、標本とはそこからサンプリングした（集めた一部の）データのこと。\n",
    "少ないデータ（標本）から、全体（母集団）を推測するために、標本誤差という、標本の値と母集団の値との誤差を意識する必要がある。\n",
    "```\n",
    "\n",
    "## 標本平均と母平均\n",
    "```\n",
    "全体のデータをいくつかのグループに分け（標本化）、そのグループ、要は標本内での平均をとったものが「標本平均」\n",
    "そして、全グループの標本平均と全体のデータの平均（母平均）は一致する。このことを「標本平均は不偏性を持つ」という。\n",
    "この性質があるために、標本平均の値はそのまま母集団の平均推測値として用いることができる。\n",
    "```"
   ]
  },
  {
   "cell_type": "markdown",
   "metadata": {},
   "source": [
    "## 不偏分散\n",
    "\n",
    "- Σ((データ - 平均値)^2) / (データ数(N) - 1)"
   ]
  },
  {
   "cell_type": "markdown",
   "metadata": {},
   "source": [
    "## 不偏分散を用いる理由\n",
    "```\n",
    "標本分散は、平均が母分散の値と一致しない（不偏性を持たない）ため、母分散の仮の値として用いることが出来ない。\n",
    "そのため、不偏分散という値を算出して、それを母分散の仮の値とする。\n",
    "```"
   ]
  },
  {
   "cell_type": "code",
   "execution_count": 2,
   "metadata": {},
   "outputs": [],
   "source": [
    "org_data_4 = pd.read_csv('./statistics_data/4章サンプルデータ/Sheet1-表1.csv')"
   ]
  },
  {
   "cell_type": "code",
   "execution_count": 4,
   "metadata": {},
   "outputs": [],
   "source": [
    "grouped = org_data_4.groupby('Group')"
   ]
  },
  {
   "cell_type": "code",
   "execution_count": 23,
   "metadata": {},
   "outputs": [
    {
     "data": {
      "text/plain": [
       "身長    180.780899\n",
       "dtype: float64"
      ]
     },
     "execution_count": 23,
     "metadata": {},
     "output_type": "execute_result"
    }
   ],
   "source": [
    "grouped.mean().drop(['No','体重'], axis=1).mean()"
   ]
  },
  {
   "cell_type": "code",
   "execution_count": 18,
   "metadata": {},
   "outputs": [
    {
     "data": {
      "text/html": [
       "<div>\n",
       "<style scoped>\n",
       "    .dataframe tbody tr th:only-of-type {\n",
       "        vertical-align: middle;\n",
       "    }\n",
       "\n",
       "    .dataframe tbody tr th {\n",
       "        vertical-align: top;\n",
       "    }\n",
       "\n",
       "    .dataframe thead th {\n",
       "        text-align: right;\n",
       "    }\n",
       "</style>\n",
       "<table border=\"1\" class=\"dataframe\">\n",
       "  <thead>\n",
       "    <tr style=\"text-align: right;\">\n",
       "      <th></th>\n",
       "      <th>No</th>\n",
       "      <th>身長</th>\n",
       "      <th>体重</th>\n",
       "    </tr>\n",
       "    <tr>\n",
       "      <th>Group</th>\n",
       "      <th></th>\n",
       "      <th></th>\n",
       "      <th></th>\n",
       "    </tr>\n",
       "  </thead>\n",
       "  <tbody>\n",
       "    <tr>\n",
       "      <th>Group1</th>\n",
       "      <td>89</td>\n",
       "      <td>5.678144</td>\n",
       "      <td>82.078652</td>\n",
       "    </tr>\n",
       "    <tr>\n",
       "      <th>Group10</th>\n",
       "      <td>89</td>\n",
       "      <td>5.005181</td>\n",
       "      <td>82.314607</td>\n",
       "    </tr>\n",
       "    <tr>\n",
       "      <th>Group2</th>\n",
       "      <td>89</td>\n",
       "      <td>4.248325</td>\n",
       "      <td>83.269663</td>\n",
       "    </tr>\n",
       "    <tr>\n",
       "      <th>Group3</th>\n",
       "      <td>89</td>\n",
       "      <td>6.428021</td>\n",
       "      <td>83.191011</td>\n",
       "    </tr>\n",
       "    <tr>\n",
       "      <th>Group4</th>\n",
       "      <td>89</td>\n",
       "      <td>6.483538</td>\n",
       "      <td>83.988764</td>\n",
       "    </tr>\n",
       "    <tr>\n",
       "      <th>Group5</th>\n",
       "      <td>89</td>\n",
       "      <td>4.901715</td>\n",
       "      <td>83.505618</td>\n",
       "    </tr>\n",
       "    <tr>\n",
       "      <th>Group6</th>\n",
       "      <td>89</td>\n",
       "      <td>5.498166</td>\n",
       "      <td>83.550562</td>\n",
       "    </tr>\n",
       "    <tr>\n",
       "      <th>Group7</th>\n",
       "      <td>89</td>\n",
       "      <td>5.688007</td>\n",
       "      <td>83.876404</td>\n",
       "    </tr>\n",
       "    <tr>\n",
       "      <th>Group8</th>\n",
       "      <td>89</td>\n",
       "      <td>5.867167</td>\n",
       "      <td>81.674157</td>\n",
       "    </tr>\n",
       "    <tr>\n",
       "      <th>Group9</th>\n",
       "      <td>89</td>\n",
       "      <td>4.362149</td>\n",
       "      <td>81.685393</td>\n",
       "    </tr>\n",
       "  </tbody>\n",
       "</table>\n",
       "</div>"
      ],
      "text/plain": [
       "         No        身長         体重\n",
       "Group                           \n",
       "Group1   89  5.678144  82.078652\n",
       "Group10  89  5.005181  82.314607\n",
       "Group2   89  4.248325  83.269663\n",
       "Group3   89  6.428021  83.191011\n",
       "Group4   89  6.483538  83.988764\n",
       "Group5   89  4.901715  83.505618\n",
       "Group6   89  5.498166  83.550562\n",
       "Group7   89  5.688007  83.876404\n",
       "Group8   89  5.867167  81.674157\n",
       "Group9   89  4.362149  81.685393"
      ]
     },
     "execution_count": 18,
     "metadata": {},
     "output_type": "execute_result"
    }
   ],
   "source": [
    "grouped.agg({'No': 'count', '身長': 'std', '体重': 'mean'})"
   ]
  },
  {
   "cell_type": "code",
   "execution_count": 16,
   "metadata": {},
   "outputs": [
    {
     "data": {
      "text/html": [
       "<div>\n",
       "<style scoped>\n",
       "    .dataframe tbody tr th:only-of-type {\n",
       "        vertical-align: middle;\n",
       "    }\n",
       "\n",
       "    .dataframe tbody tr th {\n",
       "        vertical-align: top;\n",
       "    }\n",
       "\n",
       "    .dataframe thead th {\n",
       "        text-align: right;\n",
       "    }\n",
       "</style>\n",
       "<table border=\"1\" class=\"dataframe\">\n",
       "  <thead>\n",
       "    <tr style=\"text-align: right;\">\n",
       "      <th></th>\n",
       "      <th>count</th>\n",
       "      <th>mean</th>\n",
       "      <th>std</th>\n",
       "      <th>min</th>\n",
       "      <th>25%</th>\n",
       "      <th>50%</th>\n",
       "      <th>75%</th>\n",
       "      <th>max</th>\n",
       "    </tr>\n",
       "    <tr>\n",
       "      <th>Group</th>\n",
       "      <th></th>\n",
       "      <th></th>\n",
       "      <th></th>\n",
       "      <th></th>\n",
       "      <th></th>\n",
       "      <th></th>\n",
       "      <th></th>\n",
       "      <th></th>\n",
       "    </tr>\n",
       "  </thead>\n",
       "  <tbody>\n",
       "    <tr>\n",
       "      <th>Group1</th>\n",
       "      <td>89.0</td>\n",
       "      <td>180.606742</td>\n",
       "      <td>5.678144</td>\n",
       "      <td>167.0</td>\n",
       "      <td>177.0</td>\n",
       "      <td>180.0</td>\n",
       "      <td>183.0</td>\n",
       "      <td>198.0</td>\n",
       "    </tr>\n",
       "    <tr>\n",
       "      <th>Group10</th>\n",
       "      <td>89.0</td>\n",
       "      <td>180.247191</td>\n",
       "      <td>5.005181</td>\n",
       "      <td>170.0</td>\n",
       "      <td>177.0</td>\n",
       "      <td>180.0</td>\n",
       "      <td>183.0</td>\n",
       "      <td>195.0</td>\n",
       "    </tr>\n",
       "    <tr>\n",
       "      <th>Group2</th>\n",
       "      <td>89.0</td>\n",
       "      <td>181.494382</td>\n",
       "      <td>4.248325</td>\n",
       "      <td>171.0</td>\n",
       "      <td>178.0</td>\n",
       "      <td>181.0</td>\n",
       "      <td>184.0</td>\n",
       "      <td>193.0</td>\n",
       "    </tr>\n",
       "    <tr>\n",
       "      <th>Group3</th>\n",
       "      <td>89.0</td>\n",
       "      <td>181.460674</td>\n",
       "      <td>6.428021</td>\n",
       "      <td>168.0</td>\n",
       "      <td>178.0</td>\n",
       "      <td>181.0</td>\n",
       "      <td>185.0</td>\n",
       "      <td>205.0</td>\n",
       "    </tr>\n",
       "    <tr>\n",
       "      <th>Group4</th>\n",
       "      <td>89.0</td>\n",
       "      <td>180.685393</td>\n",
       "      <td>6.483538</td>\n",
       "      <td>163.0</td>\n",
       "      <td>177.0</td>\n",
       "      <td>180.0</td>\n",
       "      <td>185.0</td>\n",
       "      <td>198.0</td>\n",
       "    </tr>\n",
       "    <tr>\n",
       "      <th>Group5</th>\n",
       "      <td>89.0</td>\n",
       "      <td>181.202247</td>\n",
       "      <td>4.901715</td>\n",
       "      <td>168.0</td>\n",
       "      <td>177.0</td>\n",
       "      <td>181.0</td>\n",
       "      <td>184.0</td>\n",
       "      <td>198.0</td>\n",
       "    </tr>\n",
       "    <tr>\n",
       "      <th>Group6</th>\n",
       "      <td>89.0</td>\n",
       "      <td>180.516854</td>\n",
       "      <td>5.498166</td>\n",
       "      <td>170.0</td>\n",
       "      <td>177.0</td>\n",
       "      <td>180.0</td>\n",
       "      <td>183.0</td>\n",
       "      <td>198.0</td>\n",
       "    </tr>\n",
       "    <tr>\n",
       "      <th>Group7</th>\n",
       "      <td>89.0</td>\n",
       "      <td>181.146067</td>\n",
       "      <td>5.688007</td>\n",
       "      <td>166.0</td>\n",
       "      <td>178.0</td>\n",
       "      <td>180.0</td>\n",
       "      <td>185.0</td>\n",
       "      <td>201.0</td>\n",
       "    </tr>\n",
       "    <tr>\n",
       "      <th>Group8</th>\n",
       "      <td>89.0</td>\n",
       "      <td>180.089888</td>\n",
       "      <td>5.867167</td>\n",
       "      <td>163.0</td>\n",
       "      <td>176.0</td>\n",
       "      <td>180.0</td>\n",
       "      <td>183.0</td>\n",
       "      <td>197.0</td>\n",
       "    </tr>\n",
       "    <tr>\n",
       "      <th>Group9</th>\n",
       "      <td>89.0</td>\n",
       "      <td>180.359551</td>\n",
       "      <td>4.362149</td>\n",
       "      <td>171.0</td>\n",
       "      <td>177.0</td>\n",
       "      <td>180.0</td>\n",
       "      <td>184.0</td>\n",
       "      <td>191.0</td>\n",
       "    </tr>\n",
       "  </tbody>\n",
       "</table>\n",
       "</div>"
      ],
      "text/plain": [
       "         count        mean       std    min    25%    50%    75%    max\n",
       "Group                                                                  \n",
       "Group1    89.0  180.606742  5.678144  167.0  177.0  180.0  183.0  198.0\n",
       "Group10   89.0  180.247191  5.005181  170.0  177.0  180.0  183.0  195.0\n",
       "Group2    89.0  181.494382  4.248325  171.0  178.0  181.0  184.0  193.0\n",
       "Group3    89.0  181.460674  6.428021  168.0  178.0  181.0  185.0  205.0\n",
       "Group4    89.0  180.685393  6.483538  163.0  177.0  180.0  185.0  198.0\n",
       "Group5    89.0  181.202247  4.901715  168.0  177.0  181.0  184.0  198.0\n",
       "Group6    89.0  180.516854  5.498166  170.0  177.0  180.0  183.0  198.0\n",
       "Group7    89.0  181.146067  5.688007  166.0  178.0  180.0  185.0  201.0\n",
       "Group8    89.0  180.089888  5.867167  163.0  176.0  180.0  183.0  197.0\n",
       "Group9    89.0  180.359551  4.362149  171.0  177.0  180.0  184.0  191.0"
      ]
     },
     "execution_count": 16,
     "metadata": {},
     "output_type": "execute_result"
    }
   ],
   "source": [
    "grouped.describe().drop(['No','体重'], axis=1)['身長']"
   ]
  },
  {
   "cell_type": "code",
   "execution_count": null,
   "metadata": {},
   "outputs": [],
   "source": [
    "grouped.agg(lambda x: )"
   ]
  },
  {
   "cell_type": "code",
   "execution_count": 20,
   "metadata": {},
   "outputs": [
    {
     "data": {
      "text/html": [
       "<div>\n",
       "<style scoped>\n",
       "    .dataframe tbody tr th:only-of-type {\n",
       "        vertical-align: middle;\n",
       "    }\n",
       "\n",
       "    .dataframe tbody tr th {\n",
       "        vertical-align: top;\n",
       "    }\n",
       "\n",
       "    .dataframe thead th {\n",
       "        text-align: right;\n",
       "    }\n",
       "</style>\n",
       "<table border=\"1\" class=\"dataframe\">\n",
       "  <thead>\n",
       "    <tr style=\"text-align: right;\">\n",
       "      <th></th>\n",
       "      <th>身長</th>\n",
       "    </tr>\n",
       "    <tr>\n",
       "      <th>Group</th>\n",
       "      <th></th>\n",
       "    </tr>\n",
       "  </thead>\n",
       "  <tbody>\n",
       "    <tr>\n",
       "      <th>Group1</th>\n",
       "      <td>32.241318</td>\n",
       "    </tr>\n",
       "    <tr>\n",
       "      <th>Group10</th>\n",
       "      <td>25.051839</td>\n",
       "    </tr>\n",
       "    <tr>\n",
       "      <th>Group2</th>\n",
       "      <td>18.048264</td>\n",
       "    </tr>\n",
       "    <tr>\n",
       "      <th>Group3</th>\n",
       "      <td>41.319459</td>\n",
       "    </tr>\n",
       "    <tr>\n",
       "      <th>Group4</th>\n",
       "      <td>42.036261</td>\n",
       "    </tr>\n",
       "    <tr>\n",
       "      <th>Group5</th>\n",
       "      <td>24.026813</td>\n",
       "    </tr>\n",
       "    <tr>\n",
       "      <th>Group6</th>\n",
       "      <td>30.229826</td>\n",
       "    </tr>\n",
       "    <tr>\n",
       "      <th>Group7</th>\n",
       "      <td>32.353422</td>\n",
       "    </tr>\n",
       "    <tr>\n",
       "      <th>Group8</th>\n",
       "      <td>34.423647</td>\n",
       "    </tr>\n",
       "    <tr>\n",
       "      <th>Group9</th>\n",
       "      <td>19.028345</td>\n",
       "    </tr>\n",
       "  </tbody>\n",
       "</table>\n",
       "</div>"
      ],
      "text/plain": [
       "                身長\n",
       "Group             \n",
       "Group1   32.241318\n",
       "Group10  25.051839\n",
       "Group2   18.048264\n",
       "Group3   41.319459\n",
       "Group4   42.036261\n",
       "Group5   24.026813\n",
       "Group6   30.229826\n",
       "Group7   32.353422\n",
       "Group8   34.423647\n",
       "Group9   19.028345"
      ]
     },
     "execution_count": 20,
     "metadata": {},
     "output_type": "execute_result"
    }
   ],
   "source": [
    "grouped.var().drop(['No','体重'], axis=1)"
   ]
  },
  {
   "cell_type": "code",
   "execution_count": 21,
   "metadata": {},
   "outputs": [
    {
     "data": {
      "text/html": [
       "<div>\n",
       "<style scoped>\n",
       "    .dataframe tbody tr th:only-of-type {\n",
       "        vertical-align: middle;\n",
       "    }\n",
       "\n",
       "    .dataframe tbody tr th {\n",
       "        vertical-align: top;\n",
       "    }\n",
       "\n",
       "    .dataframe thead th {\n",
       "        text-align: right;\n",
       "    }\n",
       "</style>\n",
       "<table border=\"1\" class=\"dataframe\">\n",
       "  <thead>\n",
       "    <tr style=\"text-align: right;\">\n",
       "      <th></th>\n",
       "      <th>身長</th>\n",
       "    </tr>\n",
       "    <tr>\n",
       "      <th>Group</th>\n",
       "      <th></th>\n",
       "    </tr>\n",
       "  </thead>\n",
       "  <tbody>\n",
       "    <tr>\n",
       "      <th>Group1</th>\n",
       "      <td>31.879056</td>\n",
       "    </tr>\n",
       "    <tr>\n",
       "      <th>Group10</th>\n",
       "      <td>24.770357</td>\n",
       "    </tr>\n",
       "    <tr>\n",
       "      <th>Group2</th>\n",
       "      <td>17.845474</td>\n",
       "    </tr>\n",
       "    <tr>\n",
       "      <th>Group3</th>\n",
       "      <td>40.855195</td>\n",
       "    </tr>\n",
       "    <tr>\n",
       "      <th>Group4</th>\n",
       "      <td>41.563944</td>\n",
       "    </tr>\n",
       "    <tr>\n",
       "      <th>Group5</th>\n",
       "      <td>23.756849</td>\n",
       "    </tr>\n",
       "    <tr>\n",
       "      <th>Group6</th>\n",
       "      <td>29.890165</td>\n",
       "    </tr>\n",
       "    <tr>\n",
       "      <th>Group7</th>\n",
       "      <td>31.989900</td>\n",
       "    </tr>\n",
       "    <tr>\n",
       "      <th>Group8</th>\n",
       "      <td>34.036864</td>\n",
       "    </tr>\n",
       "    <tr>\n",
       "      <th>Group9</th>\n",
       "      <td>18.814544</td>\n",
       "    </tr>\n",
       "  </tbody>\n",
       "</table>\n",
       "</div>"
      ],
      "text/plain": [
       "                身長\n",
       "Group             \n",
       "Group1   31.879056\n",
       "Group10  24.770357\n",
       "Group2   17.845474\n",
       "Group3   40.855195\n",
       "Group4   41.563944\n",
       "Group5   23.756849\n",
       "Group6   29.890165\n",
       "Group7   31.989900\n",
       "Group8   34.036864\n",
       "Group9   18.814544"
      ]
     },
     "execution_count": 21,
     "metadata": {},
     "output_type": "execute_result"
    }
   ],
   "source": [
    "grouped.var(ddof=False).drop(['No','体重'], axis=1)"
   ]
  },
  {
   "cell_type": "markdown",
   "metadata": {},
   "source": [
    "## 信頼区間とは\n",
    "\n",
    "母平均が含まれると推定されるデータの幅で、母平均の値が含まれる範囲の確率を示す形で表される。\n",
    "\n",
    "`95%信頼区間とは、信頼区間の範囲内に、母平均が９5%の確率で含まれることを示す。`"
   ]
  },
  {
   "cell_type": "markdown",
   "metadata": {},
   "source": [
    "## 信頼区間を求める式\n",
    "$$\n",
    "    信頼区間 = 標本平均 \\pm t\\sqrt{\\frac{不偏分散}{データ数(N)}}\n",
    "$$"
   ]
  },
  {
   "cell_type": "markdown",
   "metadata": {},
   "source": [
    "## 信頼区間を求める式（比率の場合）\n",
    "$$\n",
    "    信頼区間 = 標本比率(p) \\pm Z\\sqrt{\\frac{p(1-p)}{データ数(N)}}\n",
    "$$\n",
    "\n",
    "`※Zは標準正規分布の値を当てる`"
   ]
  },
  {
   "cell_type": "code",
   "execution_count": 26,
   "metadata": {},
   "outputs": [
    {
     "data": {
      "text/html": [
       "<div>\n",
       "<style scoped>\n",
       "    .dataframe tbody tr th:only-of-type {\n",
       "        vertical-align: middle;\n",
       "    }\n",
       "\n",
       "    .dataframe tbody tr th {\n",
       "        vertical-align: top;\n",
       "    }\n",
       "\n",
       "    .dataframe thead th {\n",
       "        text-align: right;\n",
       "    }\n",
       "</style>\n",
       "<table border=\"1\" class=\"dataframe\">\n",
       "  <thead>\n",
       "    <tr style=\"text-align: right;\">\n",
       "      <th></th>\n",
       "      <th>count</th>\n",
       "      <th>mean</th>\n",
       "      <th>var</th>\n",
       "    </tr>\n",
       "    <tr>\n",
       "      <th>Group</th>\n",
       "      <th></th>\n",
       "      <th></th>\n",
       "      <th></th>\n",
       "    </tr>\n",
       "  </thead>\n",
       "  <tbody>\n",
       "    <tr>\n",
       "      <th>Group1</th>\n",
       "      <td>89</td>\n",
       "      <td>180.606742</td>\n",
       "      <td>32.241318</td>\n",
       "    </tr>\n",
       "    <tr>\n",
       "      <th>Group10</th>\n",
       "      <td>89</td>\n",
       "      <td>180.247191</td>\n",
       "      <td>25.051839</td>\n",
       "    </tr>\n",
       "    <tr>\n",
       "      <th>Group2</th>\n",
       "      <td>89</td>\n",
       "      <td>181.494382</td>\n",
       "      <td>18.048264</td>\n",
       "    </tr>\n",
       "    <tr>\n",
       "      <th>Group3</th>\n",
       "      <td>89</td>\n",
       "      <td>181.460674</td>\n",
       "      <td>41.319459</td>\n",
       "    </tr>\n",
       "    <tr>\n",
       "      <th>Group4</th>\n",
       "      <td>89</td>\n",
       "      <td>180.685393</td>\n",
       "      <td>42.036261</td>\n",
       "    </tr>\n",
       "    <tr>\n",
       "      <th>Group5</th>\n",
       "      <td>89</td>\n",
       "      <td>181.202247</td>\n",
       "      <td>24.026813</td>\n",
       "    </tr>\n",
       "    <tr>\n",
       "      <th>Group6</th>\n",
       "      <td>89</td>\n",
       "      <td>180.516854</td>\n",
       "      <td>30.229826</td>\n",
       "    </tr>\n",
       "    <tr>\n",
       "      <th>Group7</th>\n",
       "      <td>89</td>\n",
       "      <td>181.146067</td>\n",
       "      <td>32.353422</td>\n",
       "    </tr>\n",
       "    <tr>\n",
       "      <th>Group8</th>\n",
       "      <td>89</td>\n",
       "      <td>180.089888</td>\n",
       "      <td>34.423647</td>\n",
       "    </tr>\n",
       "    <tr>\n",
       "      <th>Group9</th>\n",
       "      <td>89</td>\n",
       "      <td>180.359551</td>\n",
       "      <td>19.028345</td>\n",
       "    </tr>\n",
       "  </tbody>\n",
       "</table>\n",
       "</div>"
      ],
      "text/plain": [
       "         count        mean        var\n",
       "Group                                \n",
       "Group1      89  180.606742  32.241318\n",
       "Group10     89  180.247191  25.051839\n",
       "Group2      89  181.494382  18.048264\n",
       "Group3      89  181.460674  41.319459\n",
       "Group4      89  180.685393  42.036261\n",
       "Group5      89  181.202247  24.026813\n",
       "Group6      89  180.516854  30.229826\n",
       "Group7      89  181.146067  32.353422\n",
       "Group8      89  180.089888  34.423647\n",
       "Group9      89  180.359551  19.028345"
      ]
     },
     "execution_count": 26,
     "metadata": {},
     "output_type": "execute_result"
    }
   ],
   "source": [
    "grouped.agg(['count', 'mean', 'var']).drop(['No','体重'], axis=1)['身長']"
   ]
  },
  {
   "cell_type": "code",
   "execution_count": 29,
   "metadata": {},
   "outputs": [],
   "source": [
    "# t値はExcelの値を参考に一旦1.99で設定\n",
    "confidence_interval = grouped.agg(['count', 'mean', 'var']).drop(['No','体重'], axis=1)['身長']\n",
    "confidence_interval['ci_min'] = confidence_interval['mean'] - 1.99 * np.sqrt(confidence_interval['var'] / confidence_interval['count'])\n",
    "confidence_interval['ci_max'] = confidence_interval['mean'] + 1.99 * np.sqrt(confidence_interval['var'] / confidence_interval['count'])"
   ]
  },
  {
   "cell_type": "code",
   "execution_count": 30,
   "metadata": {},
   "outputs": [
    {
     "data": {
      "text/html": [
       "<div>\n",
       "<style scoped>\n",
       "    .dataframe tbody tr th:only-of-type {\n",
       "        vertical-align: middle;\n",
       "    }\n",
       "\n",
       "    .dataframe tbody tr th {\n",
       "        vertical-align: top;\n",
       "    }\n",
       "\n",
       "    .dataframe thead th {\n",
       "        text-align: right;\n",
       "    }\n",
       "</style>\n",
       "<table border=\"1\" class=\"dataframe\">\n",
       "  <thead>\n",
       "    <tr style=\"text-align: right;\">\n",
       "      <th></th>\n",
       "      <th>count</th>\n",
       "      <th>mean</th>\n",
       "      <th>var</th>\n",
       "      <th>ci_min</th>\n",
       "      <th>ci_max</th>\n",
       "    </tr>\n",
       "    <tr>\n",
       "      <th>Group</th>\n",
       "      <th></th>\n",
       "      <th></th>\n",
       "      <th></th>\n",
       "      <th></th>\n",
       "      <th></th>\n",
       "    </tr>\n",
       "  </thead>\n",
       "  <tbody>\n",
       "    <tr>\n",
       "      <th>Group1</th>\n",
       "      <td>89</td>\n",
       "      <td>180.606742</td>\n",
       "      <td>32.241318</td>\n",
       "      <td>179.408996</td>\n",
       "      <td>181.804487</td>\n",
       "    </tr>\n",
       "    <tr>\n",
       "      <th>Group10</th>\n",
       "      <td>89</td>\n",
       "      <td>180.247191</td>\n",
       "      <td>25.051839</td>\n",
       "      <td>179.191400</td>\n",
       "      <td>181.302982</td>\n",
       "    </tr>\n",
       "    <tr>\n",
       "      <th>Group2</th>\n",
       "      <td>89</td>\n",
       "      <td>181.494382</td>\n",
       "      <td>18.048264</td>\n",
       "      <td>180.598242</td>\n",
       "      <td>182.390522</td>\n",
       "    </tr>\n",
       "    <tr>\n",
       "      <th>Group3</th>\n",
       "      <td>89</td>\n",
       "      <td>181.460674</td>\n",
       "      <td>41.319459</td>\n",
       "      <td>180.104750</td>\n",
       "      <td>182.816598</td>\n",
       "    </tr>\n",
       "    <tr>\n",
       "      <th>Group4</th>\n",
       "      <td>89</td>\n",
       "      <td>180.685393</td>\n",
       "      <td>42.036261</td>\n",
       "      <td>179.317759</td>\n",
       "      <td>182.053028</td>\n",
       "    </tr>\n",
       "    <tr>\n",
       "      <th>Group5</th>\n",
       "      <td>89</td>\n",
       "      <td>181.202247</td>\n",
       "      <td>24.026813</td>\n",
       "      <td>180.168281</td>\n",
       "      <td>182.236213</td>\n",
       "    </tr>\n",
       "    <tr>\n",
       "      <th>Group6</th>\n",
       "      <td>89</td>\n",
       "      <td>180.516854</td>\n",
       "      <td>30.229826</td>\n",
       "      <td>179.357073</td>\n",
       "      <td>181.676635</td>\n",
       "    </tr>\n",
       "    <tr>\n",
       "      <th>Group7</th>\n",
       "      <td>89</td>\n",
       "      <td>181.146067</td>\n",
       "      <td>32.353422</td>\n",
       "      <td>179.946242</td>\n",
       "      <td>182.345893</td>\n",
       "    </tr>\n",
       "    <tr>\n",
       "      <th>Group8</th>\n",
       "      <td>89</td>\n",
       "      <td>180.089888</td>\n",
       "      <td>34.423647</td>\n",
       "      <td>178.852270</td>\n",
       "      <td>181.327505</td>\n",
       "    </tr>\n",
       "    <tr>\n",
       "      <th>Group9</th>\n",
       "      <td>89</td>\n",
       "      <td>180.359551</td>\n",
       "      <td>19.028345</td>\n",
       "      <td>179.439401</td>\n",
       "      <td>181.279700</td>\n",
       "    </tr>\n",
       "  </tbody>\n",
       "</table>\n",
       "</div>"
      ],
      "text/plain": [
       "         count        mean        var      ci_min      ci_max\n",
       "Group                                                        \n",
       "Group1      89  180.606742  32.241318  179.408996  181.804487\n",
       "Group10     89  180.247191  25.051839  179.191400  181.302982\n",
       "Group2      89  181.494382  18.048264  180.598242  182.390522\n",
       "Group3      89  181.460674  41.319459  180.104750  182.816598\n",
       "Group4      89  180.685393  42.036261  179.317759  182.053028\n",
       "Group5      89  181.202247  24.026813  180.168281  182.236213\n",
       "Group6      89  180.516854  30.229826  179.357073  181.676635\n",
       "Group7      89  181.146067  32.353422  179.946242  182.345893\n",
       "Group8      89  180.089888  34.423647  178.852270  181.327505\n",
       "Group9      89  180.359551  19.028345  179.439401  181.279700"
      ]
     },
     "execution_count": 30,
     "metadata": {},
     "output_type": "execute_result"
    }
   ],
   "source": [
    "confidence_interval"
   ]
  },
  {
   "cell_type": "markdown",
   "metadata": {},
   "source": [
    "## 信頼区間で打率予想！\n",
    "$$\n",
    "    打率信頼区間 = 去年の打率(p) \\pm 1.96\\sqrt{\\frac{p(1-p)}{打数}}\n",
    "$$"
   ]
  },
  {
   "cell_type": "code",
   "execution_count": 31,
   "metadata": {},
   "outputs": [],
   "source": [
    "def avg_estimation(avg, at_bat):\n",
    "    min_avg = avg - 1.96 * np.sqrt(avg * (1 - avg) / at_bat)\n",
    "    max_avg = avg + 1.96 * np.sqrt(avg * (1 - avg) / at_bat)\n",
    "    \n",
    "    print('2020予想最低打率： {}'.format(min_avg))\n",
    "    print('2020予想最高打率： {}'.format(max_avg))"
   ]
  },
  {
   "cell_type": "code",
   "execution_count": 32,
   "metadata": {},
   "outputs": [
    {
     "name": "stdout",
     "output_type": "stream",
     "text": [
      "2020予想最低打率： 0.23289210308004177\n",
      "2020予想最高打率： 0.30930789691995825\n"
     ]
    }
   ],
   "source": [
    "avg_estimation(0.2711, 520)"
   ]
  },
  {
   "cell_type": "markdown",
   "metadata": {},
   "source": [
    "# 相関分析"
   ]
  },
  {
   "cell_type": "markdown",
   "metadata": {},
   "source": [
    "## 相関分析とは\n",
    "\n",
    "「相関係数（一般的にはピアソンの積率相関係数という）」という値を計算すること"
   ]
  },
  {
   "cell_type": "markdown",
   "metadata": {},
   "source": [
    "## 共分散\n",
    "\n",
    "共分散とは、2組の対応するデータ間の、両データの偏差の積から平均値を出したものである。計算式は以下の通り。"
   ]
  },
  {
   "cell_type": "markdown",
   "metadata": {},
   "source": [
    "$$\n",
    "    Cov(共分散値) = \\frac{\\sum_{i}^{n}(x_i - \\overline{x})(y_i - \\overline{y})}{データ数(n)}\n",
    "$$"
   ]
  },
  {
   "cell_type": "markdown",
   "metadata": {},
   "source": [
    "共分散値は、正の相関関係（Aが大きければ、Bも大きい）がある場合はプラス、負の相関関係（Aが大きければ、Bは小さい）がある場合はマイナスになる"
   ]
  },
  {
   "cell_type": "markdown",
   "metadata": {},
   "source": [
    "共分散値はデータの単位が変わるだけで計算結果が変わってしまう（分散値を元に出しているので）ので、あまり使われることはない"
   ]
  },
  {
   "cell_type": "markdown",
   "metadata": {},
   "source": [
    "## 相関係数(r)"
   ]
  },
  {
   "cell_type": "markdown",
   "metadata": {},
   "source": [
    "上記共分散の問題を解消したのが相関係数である。計算方法は以下の通り。\n",
    "\n",
    "$$\n",
    "    r= \\frac{\\sum_{i}^{N}(x_i - \\overline{x})(y_i - \\overline{y})}{\\sqrt{\\sum_{i}^{N}(x_i - \\overline{x})^2}\\sqrt{\\sum_{i}^{N}(y_i - \\overline{y})^2}}\n",
    "$$"
   ]
  },
  {
   "cell_type": "markdown",
   "metadata": {},
   "source": [
    "## 順位相関\n",
    "\n",
    "データが以下のパターンの時に用いられる、相関分析の応用\n",
    "\n",
    "- データが順位の場合\n",
    "- データが間隔データとはいえない場合\n",
    "- データにはずれ値を含む場合\n",
    "- データに特定の関数関係を想定しない場合\n",
    "\n",
    "順位相関が示すのは、２つのデータの間に単調増加傾向または単調減少傾向にあるかということ\n",
    "単調増加傾向とは、一方のデータの増加に伴い、もう一方のデータも「程度に関わらず」増加することを指す"
   ]
  },
  {
   "cell_type": "markdown",
   "metadata": {},
   "source": [
    "２つのデータ間の関係については、大雑把な関係しか使えないので、多用は禁物。片方が順位データしかない場合に用いる。"
   ]
  },
  {
   "cell_type": "markdown",
   "metadata": {},
   "source": [
    "## スピアマンの順位相関係数\n",
    "\n",
    "順位相関係数の算出方法は、以下の通り。この計算方法を「スピアマンの順位相関係数」という\n",
    "\n",
    "$$\n",
    "    r_s = \\frac{\\sum_{i}^{n}d_i^2}{n(n^2 - 1)}\n",
    "$$"
   ]
  },
  {
   "cell_type": "markdown",
   "metadata": {},
   "source": [
    "順位相関係数は順位化したデータでピアソンの積率相関係数を求めた場合と同じ値になるという性質がある"
   ]
  },
  {
   "cell_type": "markdown",
   "metadata": {},
   "source": [
    "## はずれ値について\n",
    "\n",
    "はずれ値があると相関係数が大きく影響を受けてしまうことがあるので、以下の方法で対策をする\n",
    "\n",
    "- スピアマンの順位相関係数を計算する\n",
    "- はずれ値を除いて相関係数を計算する"
   ]
  },
  {
   "cell_type": "code",
   "execution_count": 27,
   "metadata": {},
   "outputs": [],
   "source": [
    "org_data_5 = pd.read_csv('./statistics_data/5章サンプルデータ/YtoY.csv')"
   ]
  },
  {
   "cell_type": "code",
   "execution_count": 28,
   "metadata": {},
   "outputs": [],
   "source": [
    "df_2013 = org_data_5[org_data_5['Year'] == 2013]"
   ]
  },
  {
   "cell_type": "code",
   "execution_count": 29,
   "metadata": {},
   "outputs": [],
   "source": [
    "df_2014 = org_data_5[org_data_5['Year'] == 2014]"
   ]
  },
  {
   "cell_type": "code",
   "execution_count": 30,
   "metadata": {},
   "outputs": [],
   "source": [
    "df_new = df_2013.merge(df_2014, on='打者')"
   ]
  },
  {
   "cell_type": "code",
   "execution_count": 31,
   "metadata": {},
   "outputs": [],
   "source": [
    "df_new.rename(columns={'打率_x': '打率_2013','打率_y': '打率_2014'}, inplace=True)"
   ]
  },
  {
   "cell_type": "code",
   "execution_count": 32,
   "metadata": {
    "scrolled": false
   },
   "outputs": [],
   "source": [
    "df_new = df_new.astype({'打率_2013': 'float64', '打率_2014': 'float64'})"
   ]
  },
  {
   "cell_type": "code",
   "execution_count": 33,
   "metadata": {},
   "outputs": [
    {
     "data": {
      "text/plain": [
       "打率_2013    0.266244\n",
       "打率_2014    0.264309\n",
       "dtype: float64"
      ]
     },
     "execution_count": 33,
     "metadata": {},
     "output_type": "execute_result"
    }
   ],
   "source": [
    "df_new.mean()[['打率_2013', '打率_2014']]"
   ]
  },
  {
   "cell_type": "code",
   "execution_count": 34,
   "metadata": {},
   "outputs": [],
   "source": [
    "df_new['x_i-mean(x)'] = df_new['打率_2013'] - df_new.mean()['打率_2013']\n",
    "df_new['y_i-mean(y)'] = df_new['打率_2014'] - df_new.mean()['打率_2014']"
   ]
  },
  {
   "cell_type": "code",
   "execution_count": 35,
   "metadata": {},
   "outputs": [],
   "source": [
    "df_new['xとyの積'] = df_new['x_i-mean(x)'] * df_new['y_i-mean(y)']\n",
    "df_new['xの2乗'] = df_new['x_i-mean(x)'] * df_new['x_i-mean(x)']\n",
    "df_new['yの2乗'] = df_new['y_i-mean(y)'] * df_new['y_i-mean(y)']"
   ]
  },
  {
   "cell_type": "code",
   "execution_count": 36,
   "metadata": {},
   "outputs": [],
   "source": [
    "correlation_coefficient = df_new.sum()['xとyの積'] / (np.sqrt(df_new.sum()['xの2乗']) * np.sqrt(df_new.sum()['yの2乗']))"
   ]
  },
  {
   "cell_type": "markdown",
   "metadata": {},
   "source": [
    "## 2013~2014を元に算出した打率の相関係数"
   ]
  },
  {
   "cell_type": "code",
   "execution_count": 37,
   "metadata": {},
   "outputs": [
    {
     "data": {
      "text/plain": [
       "0.3614698270218425"
      ]
     },
     "execution_count": 37,
     "metadata": {},
     "output_type": "execute_result"
    }
   ],
   "source": [
    "correlation_coefficient"
   ]
  },
  {
   "cell_type": "code",
   "execution_count": 38,
   "metadata": {},
   "outputs": [],
   "source": [
    "# 年度がわかるようリネーム\n",
    "df_new.rename(columns={'三振\\n/打席_x': 'k/PA_2013','三振\\n/打席_y': 'k/PA_2014'}, inplace=True)\n",
    "\n",
    "# パーセント表記なんで記号を削除\n",
    "df_new['k/PA_2013'] = df_new['k/PA_2013'].str.replace('%', '')\n",
    "df_new['k/PA_2014'] = df_new['k/PA_2014'].str.replace('%', '')\n",
    "\n",
    "# 数値変換\n",
    "df_new = df_new.astype({'k/PA_2013': 'float64'})\n",
    "df_new = df_new.astype({'k/PA_2014': 'float64'})\n",
    "\n",
    "# 百分率表記なんで100で割る\n",
    "df_new['k/PA_2013'] = df_new['k/PA_2013'] / 100\n",
    "df_new['k/PA_2014'] = df_new['k/PA_2014'] / 100\n",
    "\n",
    "# 偏差の算出\n",
    "df_new['k_x差分'] = df_new['k/PA_2013'] - df_new.mean()['k/PA_2013']\n",
    "df_new['k_y差分'] = df_new['k/PA_2014'] - df_new.mean()['k/PA_2014']\n",
    "\n",
    "# 偏差を元に相関分析の要素（xとyの積、またxyそれぞれの二乗）\n",
    "df_new['k_x*k_y'] = df_new['k_x差分'] * df_new['k_y差分']\n",
    "df_new['k_x^2'] = df_new['k_x差分'] * df_new['k_x差分']\n",
    "df_new['k_y^2'] = df_new['k_y差分'] * df_new['k_y差分']\n",
    "\n",
    "# 相関分析を算出\n",
    "correlation_coefficient_k = df_new.sum()['k_x*k_y'] / (np.sqrt(df_new.sum()['k_x^2']) * np.sqrt(df_new.sum()['k_y^2']))"
   ]
  },
  {
   "cell_type": "markdown",
   "metadata": {},
   "source": [
    "## 2013~2014を元に算出したK/PA（一打席あたりの三振率）の相関係数"
   ]
  },
  {
   "cell_type": "code",
   "execution_count": 39,
   "metadata": {},
   "outputs": [
    {
     "data": {
      "text/plain": [
       "0.7389407903488376"
      ]
     },
     "execution_count": 39,
     "metadata": {},
     "output_type": "execute_result"
    }
   ],
   "source": [
    "correlation_coefficient_k"
   ]
  },
  {
   "cell_type": "code",
   "execution_count": 48,
   "metadata": {},
   "outputs": [],
   "source": [
    "# dfのx列とy列の相関係数を算出する（それぞれfloat64である必要あり）\n",
    "def calculate_correlation_coefficient(df: pd.DataFrame, x_name: str, y_name: str) -> np.float64:\n",
    "    \n",
    "    # DataFrameをコピーして新しい物を作る（処理上新規列追加した方がラクなので）\n",
    "    df_new = df.copy()\n",
    "    \n",
    "    # 偏差の算出\n",
    "    df_new['x_deviation'] = df_new[x_name] - df_new.mean()[x_name]\n",
    "    df_new['y_deviation'] = df_new[y_name] - df_new.mean()[y_name]\n",
    "\n",
    "    # 偏差を元に相関分析の要素（xとyの積、またxyそれぞれの二乗）\n",
    "    df_new['k_x*k_y'] = df_new['x_deviation'] * df_new['y_deviation']\n",
    "    df_new['k_x^2'] = df_new['x_deviation'] * df_new['x_deviation']\n",
    "    df_new['k_y^2'] = df_new['y_deviation'] * df_new['y_deviation']\n",
    "\n",
    "    # 相関分析を算出\n",
    "    correlation_coefficient = df_new.sum()['k_x*k_y'] / (np.sqrt(df_new.sum()['k_x^2']) * np.sqrt(df_new.sum()['k_y^2']))\n",
    "    \n",
    "    return correlation_coefficient"
   ]
  },
  {
   "cell_type": "code",
   "execution_count": 43,
   "metadata": {},
   "outputs": [
    {
     "data": {
      "text/plain": [
       "numpy.float64"
      ]
     },
     "execution_count": 43,
     "metadata": {},
     "output_type": "execute_result"
    }
   ],
   "source": [
    "type(correlation_coefficient)"
   ]
  },
  {
   "cell_type": "code",
   "execution_count": 47,
   "metadata": {},
   "outputs": [
    {
     "data": {
      "text/plain": [
       "pandas.core.frame.DataFrame"
      ]
     },
     "execution_count": 47,
     "metadata": {},
     "output_type": "execute_result"
    }
   ],
   "source": [
    "type(df_new)"
   ]
  },
  {
   "cell_type": "code",
   "execution_count": 46,
   "metadata": {},
   "outputs": [
    {
     "name": "stdout",
     "output_type": "stream",
     "text": [
      "0.3614698270218425\n"
     ]
    }
   ],
   "source": [
    "print(calculate_correlation_coefficient(df_new, '打率_2013', '打率_2014'))"
   ]
  },
  {
   "cell_type": "code",
   "execution_count": null,
   "metadata": {},
   "outputs": [],
   "source": []
  }
 ],
 "metadata": {
  "kernelspec": {
   "display_name": "Django Shell-Plus",
   "language": "python",
   "name": "django_extensions"
  },
  "language_info": {
   "codemirror_mode": {
    "name": "ipython",
    "version": 3
   },
   "file_extension": ".py",
   "mimetype": "text/x-python",
   "name": "python",
   "nbconvert_exporter": "python",
   "pygments_lexer": "ipython3",
   "version": "3.7.2"
  }
 },
 "nbformat": 4,
 "nbformat_minor": 2
}
